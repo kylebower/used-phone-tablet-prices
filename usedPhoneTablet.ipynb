{
  "metadata": {
    "language_info": {
      "codemirror_mode": {
        "name": "python",
        "version": 3
      },
      "file_extension": ".py",
      "mimetype": "text/x-python",
      "name": "python",
      "nbconvert_exporter": "python",
      "pygments_lexer": "ipython3",
      "version": "3.8"
    },
    "kernelspec": {
      "name": "python",
      "display_name": "Python (Pyodide)",
      "language": "python"
    }
  },
  "nbformat_minor": 4,
  "nbformat": 4,
  "cells": [
    {
      "cell_type": "markdown",
      "source": "# Predicting used phone and tablet prices using regression",
      "metadata": {}
    },
    {
      "cell_type": "markdown",
      "source": "## Import Libraries",
      "metadata": {}
    },
    {
      "cell_type": "code",
      "source": "import pandas as pd # Import Pandas for data manipulation using dataframes\nimport numpy as np # Import Numpy for data statistical analysis \nimport matplotlib.pyplot as plt # Import matplotlib for data visualisation\nimport seaborn as sns # Statistical data visualization",
      "metadata": {},
      "execution_count": null,
      "outputs": []
    },
    {
      "cell_type": "markdown",
      "source": "## Import Data",
      "metadata": {}
    },
    {
      "cell_type": "code",
      "source": "database = pd.read_csv('used_device_data.csv')",
      "metadata": {},
      "execution_count": null,
      "outputs": []
    },
    {
      "cell_type": "code",
      "source": "np.random.seed(0) ",
      "metadata": {},
      "execution_count": null,
      "outputs": []
    },
    {
      "cell_type": "markdown",
      "source": "## Understanding the Data",
      "metadata": {}
    },
    {
      "cell_type": "code",
      "source": "database.shape",
      "metadata": {},
      "execution_count": null,
      "outputs": []
    },
    {
      "cell_type": "code",
      "source": "database.columns",
      "metadata": {},
      "execution_count": null,
      "outputs": []
    },
    {
      "cell_type": "code",
      "source": "database.info()",
      "metadata": {},
      "execution_count": null,
      "outputs": []
    },
    {
      "cell_type": "code",
      "source": "database.head(5)",
      "metadata": {},
      "execution_count": null,
      "outputs": []
    },
    {
      "cell_type": "markdown",
      "source": "## Missing Values",
      "metadata": {}
    },
    {
      "cell_type": "code",
      "source": "#After understanding the database structure better, we check null values\nmissing_values_count = pd.DataFrame({'Null': database.isnull().sum()})\ntotal = len(database)\npercentage_null = round((missing_values_count['Null']/total)*100,1)\nmissing_values_count['Percentage'] = percentage_null\nmissing_values_count.sort_values(by= 'Null' , ascending = False)",
      "metadata": {},
      "execution_count": null,
      "outputs": []
    },
    {
      "cell_type": "code",
      "source": "#We will be droping some columns that we won't be using\n# database.drop(['lat', 'long', 'region_url', 'url', 'vin', 'county', 'id', 'image_url'], axis = 1, inplace = True)",
      "metadata": {},
      "execution_count": null,
      "outputs": []
    },
    {
      "cell_type": "code",
      "source": "database.shape",
      "metadata": {},
      "execution_count": null,
      "outputs": []
    },
    {
      "cell_type": "code",
      "source": "#Finally, we will check in case there are some duplicated rows.\ndatabase.duplicated().sum()",
      "metadata": {},
      "execution_count": null,
      "outputs": []
    },
    {
      "cell_type": "code",
      "source": "#We drop the duplicates and keep one of each \ndatabase = database.drop_duplicates(keep='first')",
      "metadata": {},
      "execution_count": null,
      "outputs": []
    }
  ]
}